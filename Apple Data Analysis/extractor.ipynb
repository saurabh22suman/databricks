{
 "cells": [
  {
   "cell_type": "code",
   "execution_count": 0,
   "metadata": {
    "application/vnd.databricks.v1+cell": {
     "cellMetadata": {},
     "inputWidgets": {},
     "nuid": "511825fa-ea79-4241-a64b-f099c662fd6e",
     "showTitle": false,
     "tableResultSettingsMap": {},
     "title": ""
    }
   },
   "outputs": [],
   "source": [
    "class Extractor:\n",
    "    \"\"\"\n",
    "    Abstract Class\n",
    "    \"\"\"\n",
    "    def __init__(self):\n",
    "        pass\n",
    "    def extract(self):\n",
    "        pass\n",
    "\n",
    "class AirpodsAfterIphoneExtractor(Extractor):\n",
    "    def extract(self):\n",
    "        \"\"\"\n",
    "        Implement the steps for extracting or reading the data\n",
    "        \"\"\"\n",
    "        transactionInputDF = get_data_source(\n",
    "                            data_type = \"table\",\n",
    "            file_path = \"workspace.apple.transaction_updated\"\n",
    "        ).get_data_frame()\n",
    "\n",
    "        productInputDF = get_data_source(\n",
    "                            data_type = \"table\",\n",
    "            file_path = \"workspace.apple.products_updated\"\n",
    "        ).get_data_frame()\n",
    "\n",
    "        customerInputDF = get_data_source(\n",
    "                            data_type = \"table\",\n",
    "            file_path = \"workspace.apple.customer_updated\"\n",
    "        ).get_data_frame()\n",
    "\n",
    "        inputDFs = {\n",
    "            \"transactionInputDF\": transactionInputDF,\n",
    "            \"productInputDF\": productInputDF,\n",
    "            \"customerInputDF\": customerInputDF\n",
    "        }\n",
    "        \n",
    "        return inputDFs"
   ]
  }
 ],
 "metadata": {
  "application/vnd.databricks.v1+notebook": {
   "computePreferences": null,
   "dashboards": [],
   "environmentMetadata": {
    "base_environment": "",
    "environment_version": "2"
   },
   "inputWidgetPreferences": null,
   "language": "python",
   "notebookMetadata": {
    "pythonIndentUnit": 4
   },
   "notebookName": "extractor",
   "widgets": {}
  },
  "language_info": {
   "name": "python"
  }
 },
 "nbformat": 4,
 "nbformat_minor": 0
}
