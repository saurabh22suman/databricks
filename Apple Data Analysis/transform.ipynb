{
 "cells": [
  {
   "cell_type": "code",
   "execution_count": 0,
   "metadata": {
    "application/vnd.databricks.v1+cell": {
     "cellMetadata": {
      "byteLimit": 2048000,
      "rowLimit": 10000
     },
     "inputWidgets": {},
     "nuid": "84948b58-b9ca-4a78-b563-d68456d4bed6",
     "showTitle": false,
     "tableResultSettingsMap": {},
     "title": ""
    }
   },
   "outputs": [],
   "source": [
    "from pyspark.sql.window import Window\n",
    "from pyspark.sql.functions import lead, col, broadcast\n",
    "\n",
    "class Transformer():\n",
    "    def __init__(self):\n",
    "        pass\n",
    "    def transform(self, inputDFs):\n",
    "        pass\n",
    "\n",
    "class FirstTransformer(Transformer):\n",
    "    def transform(self,inputDFs):\n",
    "        \"\"\"  \n",
    "        Customer who have brought Airpods after buying the iPhone\n",
    "        \"\"\"\n",
    "        transactionInputDF = inputDFs.get(\"transactionInputDF\")\n",
    "        print(\"transactionInputDF in transform\")\n",
    "\n",
    "        transactionInputDF.show()\n",
    "\n",
    "        window_spec = Window.partitionBy(\"customer_id\").orderBy(\"transaction_date\")\n",
    "\n",
    "        transformedDF = transactionInputDF.withColumn(\"next_product_name\", lead(\"product_name\").over(window_spec))\n",
    "\n",
    "        print(\"Airpods after buyinh iPhone\")\n",
    "        transformedDF.orderBy(\"customer_id\",\"transaction_date\",\"product_name\").show()\n",
    "\n",
    "        filteredDF = transformedDF.filter(\n",
    "            (col(\"product_name\") == \"iPhone\") & (col(\"next_product_name\") == \"AirPods\")\n",
    "        )\n",
    "        filteredDF.orderBy(\"customer_id\",\"transaction_date\",\"product_name\").show()\n",
    "\n",
    "        customerInputDF = inputDFs.get(\"customerInputDF\")\n",
    "\n",
    "        joined_table = customerInputDF.join(\\\n",
    "            broadcast(filteredDF)\\\n",
    "            ,on=\"customer_id\")\n",
    "        \n",
    "        print(\"joined table\")\n",
    "        joined_table.show()\n",
    "\n",
    "        return joined_table\\\n",
    "        .select(\"customer_id\",\"customer_name\",\"location\")\\\n",
    "        .show()\n",
    "\n",
    "\n"
   ]
  }
 ],
 "metadata": {
  "application/vnd.databricks.v1+notebook": {
   "computePreferences": null,
   "dashboards": [],
   "environmentMetadata": {
    "base_environment": "",
    "environment_version": "2"
   },
   "inputWidgetPreferences": null,
   "language": "python",
   "notebookMetadata": {
    "pythonIndentUnit": 4
   },
   "notebookName": "transform",
   "widgets": {}
  },
  "language_info": {
   "name": "python"
  }
 },
 "nbformat": 4,
 "nbformat_minor": 0
}
