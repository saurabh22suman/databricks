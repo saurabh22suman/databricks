{
 "cells": [
  {
   "cell_type": "code",
   "execution_count": 0,
   "metadata": {
    "application/vnd.databricks.v1+cell": {
     "cellMetadata": {},
     "inputWidgets": {},
     "nuid": "a99c52c5-157a-4f4e-88e5-c0e20d613c1f",
     "showTitle": false,
     "tableResultSettingsMap": {},
     "title": ""
    }
   },
   "outputs": [],
   "source": [
    "class DataSink:\n",
    "    \"\"\"\n",
    "    Abstract class\n",
    "    \"\"\"\n",
    "\n",
    "    def __init__(self,df,path,method,params):\n",
    "        self.df = df\n",
    "        self.path = path\n",
    "        self.method = method\n",
    "        self.params = params\n",
    "    \n",
    "    def load_data_frame(self):\n",
    "        \"\"\"\n",
    "        Abstract method, Function will be defined in sub classes\n",
    "        \"\"\"\n",
    "        raise ValueError(\"Not Implemented\")\n",
    "\n",
    "class LoadToDBFS(DataSink):\n",
    "    def load_data_frame(self):\n",
    "        df.write.mode(self.method).save(self.path)\n",
    "\n",
    "\n",
    "class LoadToDBFSWithPartition(DataSink):\n",
    "    def load_data_frame(self):\n",
    "        partitionByColumns = self.params.get(\"partitionByColumns\")\n",
    "        df.write.mode(self.method).partitionBy(*partitionByColumns).save(self.path)\n",
    "\n",
    "def get_sink_source(sink_type,df,path,method,params=None):\n",
    "    if sink_type == \"dbfs\":\n",
    "        return LoadToDBFS(df,path,method,params)\n",
    "    elif sink_type == \"dbfs_with_partition\":\n",
    "        return LoadToDBFS(df,path,method,params)\n",
    "    else:\n",
    "        return ValueError(f\"Not Implemented for sink type {sink_type}\")\n",
    "    \n",
    "    "
   ]
  }
 ],
 "metadata": {
  "application/vnd.databricks.v1+notebook": {
   "computePreferences": null,
   "dashboards": [],
   "environmentMetadata": {
    "base_environment": "",
    "environment_version": "2"
   },
   "inputWidgetPreferences": null,
   "language": "python",
   "notebookMetadata": {
    "pythonIndentUnit": 4
   },
   "notebookName": "loader_factory",
   "widgets": {}
  },
  "language_info": {
   "name": "python"
  }
 },
 "nbformat": 4,
 "nbformat_minor": 0
}
