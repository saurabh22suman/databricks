{
 "cells": [
  {
   "cell_type": "markdown",
   "metadata": {
    "application/vnd.databricks.v1+cell": {
     "cellMetadata": {},
     "inputWidgets": {},
     "nuid": "e336ba47-52ab-4b00-ac5d-5c2e7c6c846c",
     "showTitle": false,
     "tableResultSettingsMap": {},
     "title": ""
    }
   },
   "source": [
    "# Problems on badminton court queries"
   ]
  },
  {
   "cell_type": "code",
   "execution_count": 0,
   "metadata": {
    "application/vnd.databricks.v1+cell": {
     "cellMetadata": {
      "byteLimit": 2048000,
      "rowLimit": 10000
     },
     "inputWidgets": {},
     "nuid": "8d0fcc14-c57c-4b2e-812f-00b152d60a91",
     "showTitle": false,
     "tableResultSettingsMap": {},
     "title": ""
    }
   },
   "outputs": [],
   "source": [
    "spark"
   ]
  },
  {
   "cell_type": "code",
   "execution_count": 0,
   "metadata": {
    "application/vnd.databricks.v1+cell": {
     "cellMetadata": {
      "byteLimit": 2048000,
      "rowLimit": 10000
     },
     "inputWidgets": {},
     "nuid": "1fe0cbe4-2131-42cf-bfcd-11b6a4a54ecc",
     "showTitle": false,
     "tableResultSettingsMap": {},
     "title": ""
    }
   },
   "outputs": [],
   "source": [
    "from pyspark.sql import SparkSession"
   ]
  },
  {
   "cell_type": "code",
   "execution_count": 0,
   "metadata": {
    "application/vnd.databricks.v1+cell": {
     "cellMetadata": {
      "byteLimit": 2048000,
      "rowLimit": 10000
     },
     "inputWidgets": {},
     "nuid": "7494ac89-49de-4184-a455-8031d4070bfc",
     "showTitle": false,
     "tableResultSettingsMap": {},
     "title": ""
    }
   },
   "outputs": [],
   "source": [
    "from pyspark.sql import SparkSession\n",
    "from pyspark.sql.window import Window\n",
    "from pyspark.sql.functions import rank, dense_rank, col, sum as f_sum, lead, min as f_min, datediff, to_date, row_number, collect_list\n",
    "from pyspark.sql.types import IntegerType, BooleanType, DateType\n",
    "\n",
    "spark = SparkSession.builder.appName('thebigdatashow.me').getOrCreate()\n",
    "\n",
    "badminton_court_data = [\n",
    "(1, 2, \"2016-03-01\", 5),\n",
    "(1, 2, \"2016-03-02\", 6),\n",
    "(2, 3, \"2017-06-25\", 1),\n",
    "(3, 1, \"2016-03-02\", 2),\n",
    "(3, 4, \"2016-03-02\", 3),\n",
    "(3, 2, \"2018-07-03\", 5)\n",
    "]\n",
    "print(badminton_court_data)\n",
    "\n",
    "coloumns = [\"user_id\", \"kit_id\", \"login_date\", \"sessions_count\"]\n",
    "\n",
    "court_input_df = spark.createDataFrame(badminton_court_data, coloumns)\n",
    "\n",
    "court_input_df.show()\n",
    "court_input_df.printSchema()"
   ]
  },
  {
   "cell_type": "code",
   "execution_count": 0,
   "metadata": {
    "application/vnd.databricks.v1+cell": {
     "cellMetadata": {
      "byteLimit": 2048000,
      "rowLimit": 10000
     },
     "inputWidgets": {},
     "nuid": "e7e0cc85-e7c3-4344-b06b-144d105f3c90",
     "showTitle": false,
     "tableResultSettingsMap": {},
     "title": ""
    }
   },
   "outputs": [],
   "source": [
    "# renamed_court_input_df = court_input_df.withColumn(\"login_date\", to_date(col('login_date'),'yyyy-MM-dd').cast(DateType()))\n",
    "renamed_court_input_df = court_input_df.withColumn(\"login_date\", col('login_date').cast(DateType()))\n",
    "renamed_court_input_df.show()"
   ]
  },
  {
   "cell_type": "code",
   "execution_count": 0,
   "metadata": {
    "application/vnd.databricks.v1+cell": {
     "cellMetadata": {
      "byteLimit": 2048000,
      "rowLimit": 10000
     },
     "inputWidgets": {},
     "nuid": "734088f0-d5d6-4537-8bfd-eba8c1d55b47",
     "showTitle": false,
     "tableResultSettingsMap": {},
     "title": ""
    }
   },
   "outputs": [],
   "source": [
    "renamed_court_input_df.printSchema()"
   ]
  },
  {
   "cell_type": "code",
   "execution_count": 0,
   "metadata": {
    "application/vnd.databricks.v1+cell": {
     "cellMetadata": {
      "byteLimit": 2048000,
      "rowLimit": 10000
     },
     "inputWidgets": {},
     "nuid": "8b10f0a6-9a27-4b5e-9ad3-b7a7489fd6f0",
     "showTitle": false,
     "tableResultSettingsMap": {},
     "title": ""
    }
   },
   "outputs": [],
   "source": [
    "\n",
    "first_day = renamed_court_input_df.groupBy('user_id').agg(f_min('login_date'))\n",
    "first_day.show()"
   ]
  },
  {
   "cell_type": "code",
   "execution_count": 0,
   "metadata": {
    "application/vnd.databricks.v1+cell": {
     "cellMetadata": {
      "byteLimit": 2048000,
      "rowLimit": 10000
     },
     "inputWidgets": {},
     "nuid": "54e14ea7-b4fd-4ebf-84d8-753c4eba8a2e",
     "showTitle": false,
     "tableResultSettingsMap": {},
     "title": ""
    }
   },
   "outputs": [],
   "source": [
    "first_day = renamed_court_input_df.groupBy('user_id').agg(f_min('login_date').alias('first_login'))\n",
    "first_day.show()"
   ]
  },
  {
   "cell_type": "code",
   "execution_count": 0,
   "metadata": {
    "application/vnd.databricks.v1+cell": {
     "cellMetadata": {
      "byteLimit": 2048000,
      "rowLimit": 10000
     },
     "inputWidgets": {},
     "nuid": "67d706c9-7ca8-4fd1-a051-2c978394b194",
     "showTitle": false,
     "tableResultSettingsMap": {},
     "title": ""
    }
   },
   "outputs": [],
   "source": [
    "renamed_court_input_df.createOrReplaceTempView(\"renamed_court_input_df\")"
   ]
  },
  {
   "cell_type": "code",
   "execution_count": 0,
   "metadata": {
    "application/vnd.databricks.v1+cell": {
     "cellMetadata": {
      "byteLimit": 2048000,
      "rowLimit": 10000
     },
     "inputWidgets": {},
     "nuid": "b623ef1d-faec-47f1-8a99-f16ee7545a4c",
     "showTitle": false,
     "tableResultSettingsMap": {},
     "title": ""
    }
   },
   "outputs": [],
   "source": [
    "query_to_find_first_day = \"\"\"\n",
    "SELECT user_id, MIN(login_date) as first_login FROM renamed_court_input_df GROUP BY user_id\n",
    "\"\"\"\n",
    "first_day_sql = spark.sql(query_to_find_first_day)\n",
    "first_day_sql.show()"
   ]
  },
  {
   "cell_type": "code",
   "execution_count": 0,
   "metadata": {
    "application/vnd.databricks.v1+cell": {
     "cellMetadata": {
      "byteLimit": 2048000,
      "rowLimit": 10000
     },
     "inputWidgets": {},
     "nuid": "5753c7aa-ca1d-4040-a221-b1622f46c26f",
     "showTitle": false,
     "tableResultSettingsMap": {},
     "title": ""
    }
   },
   "outputs": [],
   "source": [
    "# Using wiindow function - pyspark\n",
    "window_spec = Window.partitionBy('user_id').orderBy('login_date')\n",
    "\n",
    "renamed_court_df = court_input_df.withColumn('first_login',row_number().over(window_spec))\n",
    "renamed_court_input_df1 = renamed_court_df.select('user_id','login_date').filter(renamed_court_df.first_login == 1)\n",
    "renamed_court_input_df1.show()\n"
   ]
  },
  {
   "cell_type": "code",
   "execution_count": 0,
   "metadata": {
    "application/vnd.databricks.v1+cell": {
     "cellMetadata": {
      "byteLimit": 2048000,
      "rowLimit": 10000
     },
     "inputWidgets": {},
     "nuid": "332e3603-30bf-4504-b70f-adbc2832ef48",
     "showTitle": false,
     "tableResultSettingsMap": {},
     "title": ""
    }
   },
   "outputs": [],
   "source": [
    "# what first kit a user used on their first day - pyspark\n",
    "window_spec = Window.partitionBy('user_id').orderBy('login_date')\n",
    "\n",
    "renamed_court_df = court_input_df.withColumn('first_login',rank().over(window_spec))\n",
    "renamed_court_input_df1 = renamed_court_df.select('user_id','kit_id').filter(renamed_court_df.first_login == 1)\n",
    "renamed_court_input_df1.show()"
   ]
  },
  {
   "cell_type": "code",
   "execution_count": 0,
   "metadata": {
    "application/vnd.databricks.v1+cell": {
     "cellMetadata": {
      "byteLimit": 2048000,
      "rowLimit": 10000
     },
     "inputWidgets": {},
     "nuid": "b8a8cf5b-6226-4b0f-90ee-32b4baaa0ae1",
     "showTitle": false,
     "tableResultSettingsMap": {},
     "title": ""
    }
   },
   "outputs": [],
   "source": [
    "# what first kit a user used on their first day - sql\n",
    "# window_spec = Window.partitionBy('user_id').orderBy('login_date')\n",
    "\n",
    "# renamed_court_df = court_input_df.withColumn('first_login',rank().over(window_spec))\n",
    "# renamed_court_input_df1 = renamed_court_df.select('user_id','kit_id').filter(renamed_court_df.first_login == 1)\n",
    "\n",
    "court_input_df.createOrReplaceTempView(\"court_input_df\")\n",
    "\n",
    "query_for_first_day_kit = \"\"\"\n",
    "                        with first_login as(\n",
    "                        select *, rank()  over(partition by user_id order by login_date) as rnk\n",
    "                        from court_input_df\n",
    "                        )\n",
    "\n",
    "                        select user_id, kit_id from first_login where rnk = 1\n",
    "\"\"\"\n",
    "\n",
    "spark.sql(query_for_first_day_kit).show()\n"
   ]
  },
  {
   "cell_type": "code",
   "execution_count": 0,
   "metadata": {
    "application/vnd.databricks.v1+cell": {
     "cellMetadata": {
      "byteLimit": 2048000,
      "rowLimit": 10000
     },
     "inputWidgets": {},
     "nuid": "d855f3a9-f592-47c8-a1d6-d245c99306f6",
     "showTitle": false,
     "tableResultSettingsMap": {},
     "title": ""
    }
   },
   "outputs": [],
   "source": [
    "window_spec = Window.partitionBy('user_id').orderBy('login_date')\n",
    "\n",
    "first_kit_df = court_input_df.withColumn('first_login',rank().over(window_spec))\n",
    "first_kit_df = first_kit_df.select('user_id','kit_id').filter(col('first_login')==1)\n",
    "first_kit_df.show()"
   ]
  },
  {
   "cell_type": "code",
   "execution_count": 0,
   "metadata": {
    "application/vnd.databricks.v1+cell": {
     "cellMetadata": {
      "byteLimit": 2048000,
      "rowLimit": 10000
     },
     "inputWidgets": {},
     "nuid": "971dcc29-de02-4495-b91a-41a2d6855b59",
     "showTitle": false,
     "tableResultSettingsMap": {},
     "title": ""
    }
   },
   "outputs": [],
   "source": [
    "# Created array for each user\n",
    "# collect_list is used for collecting as a list, whereas collect_set is used to collect as set.\n",
    "flatend_first_kit_df = first_kit_df.groupBy('user_id').agg(collect_list(col('kit_id')).alias('kit_id'))\n",
    "\n",
    "flatend_first_kit_df.show()"
   ]
  },
  {
   "cell_type": "code",
   "execution_count": 0,
   "metadata": {
    "application/vnd.databricks.v1+cell": {
     "cellMetadata": {
      "byteLimit": 2048000,
      "rowLimit": 10000
     },
     "inputWidgets": {},
     "nuid": "9a49dce3-03ce-4579-bd92-bacdc27ba165",
     "showTitle": false,
     "tableResultSettingsMap": {},
     "title": ""
    }
   },
   "outputs": [],
   "source": [
    "# Kit ids using SQL\n",
    "\n",
    "first_kit_df.createOrReplaceTempView('first_kit_df')"
   ]
  },
  {
   "cell_type": "code",
   "execution_count": 0,
   "metadata": {
    "application/vnd.databricks.v1+cell": {
     "cellMetadata": {
      "byteLimit": 2048000,
      "rowLimit": 10000
     },
     "inputWidgets": {},
     "nuid": "4b8a5429-827c-4a45-94d7-066720177130",
     "showTitle": false,
     "tableResultSettingsMap": {},
     "title": ""
    }
   },
   "outputs": [],
   "source": [
    "query_for_kit_list = \"\"\"\n",
    "                        select user_id, collect_list(kit_id) as kit_id\n",
    "                        from first_kit_df\n",
    "                        group by user_id\n",
    "\"\"\"\n",
    "\n",
    "spark.sql(query_for_kit_list).show()"
   ]
  },
  {
   "cell_type": "code",
   "execution_count": 0,
   "metadata": {
    "application/vnd.databricks.v1+cell": {
     "cellMetadata": {
      "byteLimit": 2048000,
      "rowLimit": 10000
     },
     "inputWidgets": {},
     "nuid": "f1a553e1-7e1b-409e-923f-6806b17b4123",
     "showTitle": false,
     "tableResultSettingsMap": {},
     "title": ""
    }
   },
   "outputs": [],
   "source": [
    "# cummalative sum for games_played\n",
    "\n",
    "window_spec = Window.partitionBy('user_id').orderBy('login_date')\n",
    "\n",
    "cum_sum_court_input_df = court_input_df.withColumn('total_played',f_sum(col('sessions_count')).over(window_spec))\n",
    "\n",
    "cum_sum_court_input_df.show()\n"
   ]
  },
  {
   "cell_type": "code",
   "execution_count": 0,
   "metadata": {
    "application/vnd.databricks.v1+cell": {
     "cellMetadata": {
      "byteLimit": 2048000,
      "rowLimit": 10000
     },
     "inputWidgets": {},
     "nuid": "bef00c0b-b01a-4187-b1c8-69553398b573",
     "showTitle": false,
     "tableResultSettingsMap": {},
     "title": ""
    }
   },
   "outputs": [],
   "source": [
    "# Get total played day by day for each user \n",
    "court_input_df.createOrReplaceTempView(\"court_input_df\")\n",
    "\n",
    "query_for_cum_sum = \"\"\"\n",
    "                    select *, sum(sessions_count) over(partition by user_id order by login_date)\n",
    "                    as total_played\n",
    "                    from court_input_df\n",
    "\"\"\"\n",
    "spark.sql(query_for_cum_sum).show()"
   ]
  }
 ],
 "metadata": {
  "application/vnd.databricks.v1+notebook": {
   "computePreferences": {
    "hardware": {
     "accelerator": null,
     "gpuPoolId": null,
     "memory": null
    }
   },
   "dashboards": [],
   "environmentMetadata": {
    "base_environment": "",
    "environment_version": "2"
   },
   "inputWidgetPreferences": null,
   "language": "python",
   "notebookMetadata": {
    "pythonIndentUnit": 4
   },
   "notebookName": "l1",
   "widgets": {}
  },
  "language_info": {
   "name": "python"
  }
 },
 "nbformat": 4,
 "nbformat_minor": 0
}
